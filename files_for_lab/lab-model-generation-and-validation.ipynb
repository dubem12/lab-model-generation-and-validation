{
 "cells": [
  {
   "cell_type": "code",
   "execution_count": 1,
   "id": "0b9c4798",
   "metadata": {},
   "outputs": [],
   "source": [
    "import pandas as pd\n",
    "import numpy as np\n",
    "import matplotlib.pyplot as plt\n",
    "import seaborn as sns\n",
    "#import sk\n",
    "import sklearn"
   ]
  },
  {
   "cell_type": "code",
   "execution_count": 2,
   "id": "86b38fe3",
   "metadata": {},
   "outputs": [],
   "source": [
    "#importing the dataset\n",
    "dataset = pd.read_csv('./csv_files/marketing_customer_analysis.csv')"
   ]
  },
  {
   "cell_type": "code",
   "execution_count": 3,
   "id": "d2928cfb",
   "metadata": {},
   "outputs": [
    {
     "data": {
      "text/html": [
       "<div>\n",
       "<style scoped>\n",
       "    .dataframe tbody tr th:only-of-type {\n",
       "        vertical-align: middle;\n",
       "    }\n",
       "\n",
       "    .dataframe tbody tr th {\n",
       "        vertical-align: top;\n",
       "    }\n",
       "\n",
       "    .dataframe thead th {\n",
       "        text-align: right;\n",
       "    }\n",
       "</style>\n",
       "<table border=\"1\" class=\"dataframe\">\n",
       "  <thead>\n",
       "    <tr style=\"text-align: right;\">\n",
       "      <th></th>\n",
       "      <th>Customer</th>\n",
       "      <th>State</th>\n",
       "      <th>Customer Lifetime Value</th>\n",
       "      <th>Response</th>\n",
       "      <th>Coverage</th>\n",
       "      <th>Education</th>\n",
       "      <th>Effective To Date</th>\n",
       "      <th>EmploymentStatus</th>\n",
       "      <th>Gender</th>\n",
       "      <th>Income</th>\n",
       "      <th>...</th>\n",
       "      <th>Months Since Policy Inception</th>\n",
       "      <th>Number of Open Complaints</th>\n",
       "      <th>Number of Policies</th>\n",
       "      <th>Policy Type</th>\n",
       "      <th>Policy</th>\n",
       "      <th>Renew Offer Type</th>\n",
       "      <th>Sales Channel</th>\n",
       "      <th>Total Claim Amount</th>\n",
       "      <th>Vehicle Class</th>\n",
       "      <th>Vehicle Size</th>\n",
       "    </tr>\n",
       "  </thead>\n",
       "  <tbody>\n",
       "    <tr>\n",
       "      <th>0</th>\n",
       "      <td>BU79786</td>\n",
       "      <td>Washington</td>\n",
       "      <td>2763.519279</td>\n",
       "      <td>No</td>\n",
       "      <td>Basic</td>\n",
       "      <td>Bachelor</td>\n",
       "      <td>2/24/11</td>\n",
       "      <td>Employed</td>\n",
       "      <td>F</td>\n",
       "      <td>56274</td>\n",
       "      <td>...</td>\n",
       "      <td>5</td>\n",
       "      <td>0</td>\n",
       "      <td>1</td>\n",
       "      <td>Corporate Auto</td>\n",
       "      <td>Corporate L3</td>\n",
       "      <td>Offer1</td>\n",
       "      <td>Agent</td>\n",
       "      <td>384.811147</td>\n",
       "      <td>Two-Door Car</td>\n",
       "      <td>Medsize</td>\n",
       "    </tr>\n",
       "    <tr>\n",
       "      <th>1</th>\n",
       "      <td>QZ44356</td>\n",
       "      <td>Arizona</td>\n",
       "      <td>6979.535903</td>\n",
       "      <td>No</td>\n",
       "      <td>Extended</td>\n",
       "      <td>Bachelor</td>\n",
       "      <td>1/31/11</td>\n",
       "      <td>Unemployed</td>\n",
       "      <td>F</td>\n",
       "      <td>0</td>\n",
       "      <td>...</td>\n",
       "      <td>42</td>\n",
       "      <td>0</td>\n",
       "      <td>8</td>\n",
       "      <td>Personal Auto</td>\n",
       "      <td>Personal L3</td>\n",
       "      <td>Offer3</td>\n",
       "      <td>Agent</td>\n",
       "      <td>1131.464935</td>\n",
       "      <td>Four-Door Car</td>\n",
       "      <td>Medsize</td>\n",
       "    </tr>\n",
       "    <tr>\n",
       "      <th>2</th>\n",
       "      <td>AI49188</td>\n",
       "      <td>Nevada</td>\n",
       "      <td>12887.431650</td>\n",
       "      <td>No</td>\n",
       "      <td>Premium</td>\n",
       "      <td>Bachelor</td>\n",
       "      <td>2/19/11</td>\n",
       "      <td>Employed</td>\n",
       "      <td>F</td>\n",
       "      <td>48767</td>\n",
       "      <td>...</td>\n",
       "      <td>38</td>\n",
       "      <td>0</td>\n",
       "      <td>2</td>\n",
       "      <td>Personal Auto</td>\n",
       "      <td>Personal L3</td>\n",
       "      <td>Offer1</td>\n",
       "      <td>Agent</td>\n",
       "      <td>566.472247</td>\n",
       "      <td>Two-Door Car</td>\n",
       "      <td>Medsize</td>\n",
       "    </tr>\n",
       "    <tr>\n",
       "      <th>3</th>\n",
       "      <td>WW63253</td>\n",
       "      <td>California</td>\n",
       "      <td>7645.861827</td>\n",
       "      <td>No</td>\n",
       "      <td>Basic</td>\n",
       "      <td>Bachelor</td>\n",
       "      <td>1/20/11</td>\n",
       "      <td>Unemployed</td>\n",
       "      <td>M</td>\n",
       "      <td>0</td>\n",
       "      <td>...</td>\n",
       "      <td>65</td>\n",
       "      <td>0</td>\n",
       "      <td>7</td>\n",
       "      <td>Corporate Auto</td>\n",
       "      <td>Corporate L2</td>\n",
       "      <td>Offer1</td>\n",
       "      <td>Call Center</td>\n",
       "      <td>529.881344</td>\n",
       "      <td>SUV</td>\n",
       "      <td>Medsize</td>\n",
       "    </tr>\n",
       "    <tr>\n",
       "      <th>4</th>\n",
       "      <td>HB64268</td>\n",
       "      <td>Washington</td>\n",
       "      <td>2813.692575</td>\n",
       "      <td>No</td>\n",
       "      <td>Basic</td>\n",
       "      <td>Bachelor</td>\n",
       "      <td>2/3/11</td>\n",
       "      <td>Employed</td>\n",
       "      <td>M</td>\n",
       "      <td>43836</td>\n",
       "      <td>...</td>\n",
       "      <td>44</td>\n",
       "      <td>0</td>\n",
       "      <td>1</td>\n",
       "      <td>Personal Auto</td>\n",
       "      <td>Personal L1</td>\n",
       "      <td>Offer1</td>\n",
       "      <td>Agent</td>\n",
       "      <td>138.130879</td>\n",
       "      <td>Four-Door Car</td>\n",
       "      <td>Medsize</td>\n",
       "    </tr>\n",
       "  </tbody>\n",
       "</table>\n",
       "<p>5 rows × 24 columns</p>\n",
       "</div>"
      ],
      "text/plain": [
       "  Customer       State  Customer Lifetime Value Response  Coverage Education  \\\n",
       "0  BU79786  Washington              2763.519279       No     Basic  Bachelor   \n",
       "1  QZ44356     Arizona              6979.535903       No  Extended  Bachelor   \n",
       "2  AI49188      Nevada             12887.431650       No   Premium  Bachelor   \n",
       "3  WW63253  California              7645.861827       No     Basic  Bachelor   \n",
       "4  HB64268  Washington              2813.692575       No     Basic  Bachelor   \n",
       "\n",
       "  Effective To Date EmploymentStatus Gender  Income  ...  \\\n",
       "0           2/24/11         Employed      F   56274  ...   \n",
       "1           1/31/11       Unemployed      F       0  ...   \n",
       "2           2/19/11         Employed      F   48767  ...   \n",
       "3           1/20/11       Unemployed      M       0  ...   \n",
       "4            2/3/11         Employed      M   43836  ...   \n",
       "\n",
       "  Months Since Policy Inception Number of Open Complaints  Number of Policies  \\\n",
       "0                             5                         0                   1   \n",
       "1                            42                         0                   8   \n",
       "2                            38                         0                   2   \n",
       "3                            65                         0                   7   \n",
       "4                            44                         0                   1   \n",
       "\n",
       "      Policy Type        Policy  Renew Offer Type  Sales Channel  \\\n",
       "0  Corporate Auto  Corporate L3            Offer1          Agent   \n",
       "1   Personal Auto   Personal L3            Offer3          Agent   \n",
       "2   Personal Auto   Personal L3            Offer1          Agent   \n",
       "3  Corporate Auto  Corporate L2            Offer1    Call Center   \n",
       "4   Personal Auto   Personal L1            Offer1          Agent   \n",
       "\n",
       "  Total Claim Amount  Vehicle Class Vehicle Size  \n",
       "0         384.811147   Two-Door Car      Medsize  \n",
       "1        1131.464935  Four-Door Car      Medsize  \n",
       "2         566.472247   Two-Door Car      Medsize  \n",
       "3         529.881344            SUV      Medsize  \n",
       "4         138.130879  Four-Door Car      Medsize  \n",
       "\n",
       "[5 rows x 24 columns]"
      ]
     },
     "execution_count": 3,
     "metadata": {},
     "output_type": "execute_result"
    }
   ],
   "source": [
    "dataset.head()"
   ]
  },
  {
   "cell_type": "code",
   "execution_count": 4,
   "id": "17e59f27",
   "metadata": {},
   "outputs": [
    {
     "data": {
      "text/html": [
       "<div>\n",
       "<style scoped>\n",
       "    .dataframe tbody tr th:only-of-type {\n",
       "        vertical-align: middle;\n",
       "    }\n",
       "\n",
       "    .dataframe tbody tr th {\n",
       "        vertical-align: top;\n",
       "    }\n",
       "\n",
       "    .dataframe thead th {\n",
       "        text-align: right;\n",
       "    }\n",
       "</style>\n",
       "<table border=\"1\" class=\"dataframe\">\n",
       "  <thead>\n",
       "    <tr style=\"text-align: right;\">\n",
       "      <th></th>\n",
       "      <th>Customer Lifetime Value</th>\n",
       "      <th>Income</th>\n",
       "      <th>Monthly Premium Auto</th>\n",
       "      <th>Months Since Last Claim</th>\n",
       "      <th>Months Since Policy Inception</th>\n",
       "      <th>Number of Open Complaints</th>\n",
       "      <th>Number of Policies</th>\n",
       "      <th>Total Claim Amount</th>\n",
       "    </tr>\n",
       "  </thead>\n",
       "  <tbody>\n",
       "    <tr>\n",
       "      <th>0</th>\n",
       "      <td>2763.519279</td>\n",
       "      <td>56274</td>\n",
       "      <td>69</td>\n",
       "      <td>32</td>\n",
       "      <td>5</td>\n",
       "      <td>0</td>\n",
       "      <td>1</td>\n",
       "      <td>384.811147</td>\n",
       "    </tr>\n",
       "    <tr>\n",
       "      <th>1</th>\n",
       "      <td>6979.535903</td>\n",
       "      <td>0</td>\n",
       "      <td>94</td>\n",
       "      <td>13</td>\n",
       "      <td>42</td>\n",
       "      <td>0</td>\n",
       "      <td>8</td>\n",
       "      <td>1131.464935</td>\n",
       "    </tr>\n",
       "    <tr>\n",
       "      <th>2</th>\n",
       "      <td>12887.431650</td>\n",
       "      <td>48767</td>\n",
       "      <td>108</td>\n",
       "      <td>18</td>\n",
       "      <td>38</td>\n",
       "      <td>0</td>\n",
       "      <td>2</td>\n",
       "      <td>566.472247</td>\n",
       "    </tr>\n",
       "    <tr>\n",
       "      <th>3</th>\n",
       "      <td>7645.861827</td>\n",
       "      <td>0</td>\n",
       "      <td>106</td>\n",
       "      <td>18</td>\n",
       "      <td>65</td>\n",
       "      <td>0</td>\n",
       "      <td>7</td>\n",
       "      <td>529.881344</td>\n",
       "    </tr>\n",
       "    <tr>\n",
       "      <th>4</th>\n",
       "      <td>2813.692575</td>\n",
       "      <td>43836</td>\n",
       "      <td>73</td>\n",
       "      <td>12</td>\n",
       "      <td>44</td>\n",
       "      <td>0</td>\n",
       "      <td>1</td>\n",
       "      <td>138.130879</td>\n",
       "    </tr>\n",
       "  </tbody>\n",
       "</table>\n",
       "</div>"
      ],
      "text/plain": [
       "   Customer Lifetime Value  Income  Monthly Premium Auto  \\\n",
       "0              2763.519279   56274                    69   \n",
       "1              6979.535903       0                    94   \n",
       "2             12887.431650   48767                   108   \n",
       "3              7645.861827       0                   106   \n",
       "4              2813.692575   43836                    73   \n",
       "\n",
       "   Months Since Last Claim  Months Since Policy Inception  \\\n",
       "0                       32                              5   \n",
       "1                       13                             42   \n",
       "2                       18                             38   \n",
       "3                       18                             65   \n",
       "4                       12                             44   \n",
       "\n",
       "   Number of Open Complaints  Number of Policies  Total Claim Amount  \n",
       "0                          0                   1          384.811147  \n",
       "1                          0                   8         1131.464935  \n",
       "2                          0                   2          566.472247  \n",
       "3                          0                   7          529.881344  \n",
       "4                          0                   1          138.130879  "
      ]
     },
     "execution_count": 4,
     "metadata": {},
     "output_type": "execute_result"
    }
   ],
   "source": [
    "#obtain the numerical variables\n",
    "numericals = dataset.select_dtypes(np.number)\n",
    "numericals.head()"
   ]
  },
  {
   "cell_type": "code",
   "execution_count": 5,
   "id": "62cd1c91",
   "metadata": {},
   "outputs": [
    {
     "data": {
      "text/html": [
       "<div>\n",
       "<style scoped>\n",
       "    .dataframe tbody tr th:only-of-type {\n",
       "        vertical-align: middle;\n",
       "    }\n",
       "\n",
       "    .dataframe tbody tr th {\n",
       "        vertical-align: top;\n",
       "    }\n",
       "\n",
       "    .dataframe thead th {\n",
       "        text-align: right;\n",
       "    }\n",
       "</style>\n",
       "<table border=\"1\" class=\"dataframe\">\n",
       "  <thead>\n",
       "    <tr style=\"text-align: right;\">\n",
       "      <th></th>\n",
       "      <th>Customer Lifetime Value</th>\n",
       "      <th>Income</th>\n",
       "      <th>Monthly Premium Auto</th>\n",
       "      <th>Months Since Last Claim</th>\n",
       "      <th>Months Since Policy Inception</th>\n",
       "      <th>Number of Open Complaints</th>\n",
       "      <th>Number of Policies</th>\n",
       "      <th>Total Claim Amount</th>\n",
       "    </tr>\n",
       "  </thead>\n",
       "  <tbody>\n",
       "    <tr>\n",
       "      <th>Customer Lifetime Value</th>\n",
       "      <td>1.000000</td>\n",
       "      <td>0.024366</td>\n",
       "      <td>0.396262</td>\n",
       "      <td>0.011517</td>\n",
       "      <td>0.009418</td>\n",
       "      <td>-0.036343</td>\n",
       "      <td>0.021955</td>\n",
       "      <td>0.226451</td>\n",
       "    </tr>\n",
       "    <tr>\n",
       "      <th>Income</th>\n",
       "      <td>0.024366</td>\n",
       "      <td>1.000000</td>\n",
       "      <td>-0.016665</td>\n",
       "      <td>-0.026715</td>\n",
       "      <td>-0.000875</td>\n",
       "      <td>0.006408</td>\n",
       "      <td>-0.008656</td>\n",
       "      <td>-0.355254</td>\n",
       "    </tr>\n",
       "    <tr>\n",
       "      <th>Monthly Premium Auto</th>\n",
       "      <td>0.396262</td>\n",
       "      <td>-0.016665</td>\n",
       "      <td>1.000000</td>\n",
       "      <td>0.005026</td>\n",
       "      <td>0.020257</td>\n",
       "      <td>-0.013122</td>\n",
       "      <td>-0.011233</td>\n",
       "      <td>0.632017</td>\n",
       "    </tr>\n",
       "    <tr>\n",
       "      <th>Months Since Last Claim</th>\n",
       "      <td>0.011517</td>\n",
       "      <td>-0.026715</td>\n",
       "      <td>0.005026</td>\n",
       "      <td>1.000000</td>\n",
       "      <td>-0.042959</td>\n",
       "      <td>0.005354</td>\n",
       "      <td>0.009136</td>\n",
       "      <td>0.007563</td>\n",
       "    </tr>\n",
       "    <tr>\n",
       "      <th>Months Since Policy Inception</th>\n",
       "      <td>0.009418</td>\n",
       "      <td>-0.000875</td>\n",
       "      <td>0.020257</td>\n",
       "      <td>-0.042959</td>\n",
       "      <td>1.000000</td>\n",
       "      <td>-0.001158</td>\n",
       "      <td>-0.013333</td>\n",
       "      <td>0.003335</td>\n",
       "    </tr>\n",
       "    <tr>\n",
       "      <th>Number of Open Complaints</th>\n",
       "      <td>-0.036343</td>\n",
       "      <td>0.006408</td>\n",
       "      <td>-0.013122</td>\n",
       "      <td>0.005354</td>\n",
       "      <td>-0.001158</td>\n",
       "      <td>1.000000</td>\n",
       "      <td>0.001498</td>\n",
       "      <td>-0.014241</td>\n",
       "    </tr>\n",
       "    <tr>\n",
       "      <th>Number of Policies</th>\n",
       "      <td>0.021955</td>\n",
       "      <td>-0.008656</td>\n",
       "      <td>-0.011233</td>\n",
       "      <td>0.009136</td>\n",
       "      <td>-0.013333</td>\n",
       "      <td>0.001498</td>\n",
       "      <td>1.000000</td>\n",
       "      <td>-0.002354</td>\n",
       "    </tr>\n",
       "    <tr>\n",
       "      <th>Total Claim Amount</th>\n",
       "      <td>0.226451</td>\n",
       "      <td>-0.355254</td>\n",
       "      <td>0.632017</td>\n",
       "      <td>0.007563</td>\n",
       "      <td>0.003335</td>\n",
       "      <td>-0.014241</td>\n",
       "      <td>-0.002354</td>\n",
       "      <td>1.000000</td>\n",
       "    </tr>\n",
       "  </tbody>\n",
       "</table>\n",
       "</div>"
      ],
      "text/plain": [
       "                               Customer Lifetime Value    Income  \\\n",
       "Customer Lifetime Value                       1.000000  0.024366   \n",
       "Income                                        0.024366  1.000000   \n",
       "Monthly Premium Auto                          0.396262 -0.016665   \n",
       "Months Since Last Claim                       0.011517 -0.026715   \n",
       "Months Since Policy Inception                 0.009418 -0.000875   \n",
       "Number of Open Complaints                    -0.036343  0.006408   \n",
       "Number of Policies                            0.021955 -0.008656   \n",
       "Total Claim Amount                            0.226451 -0.355254   \n",
       "\n",
       "                               Monthly Premium Auto  Months Since Last Claim  \\\n",
       "Customer Lifetime Value                    0.396262                 0.011517   \n",
       "Income                                    -0.016665                -0.026715   \n",
       "Monthly Premium Auto                       1.000000                 0.005026   \n",
       "Months Since Last Claim                    0.005026                 1.000000   \n",
       "Months Since Policy Inception              0.020257                -0.042959   \n",
       "Number of Open Complaints                 -0.013122                 0.005354   \n",
       "Number of Policies                        -0.011233                 0.009136   \n",
       "Total Claim Amount                         0.632017                 0.007563   \n",
       "\n",
       "                               Months Since Policy Inception  \\\n",
       "Customer Lifetime Value                             0.009418   \n",
       "Income                                             -0.000875   \n",
       "Monthly Premium Auto                                0.020257   \n",
       "Months Since Last Claim                            -0.042959   \n",
       "Months Since Policy Inception                       1.000000   \n",
       "Number of Open Complaints                          -0.001158   \n",
       "Number of Policies                                 -0.013333   \n",
       "Total Claim Amount                                  0.003335   \n",
       "\n",
       "                               Number of Open Complaints  Number of Policies  \\\n",
       "Customer Lifetime Value                        -0.036343            0.021955   \n",
       "Income                                          0.006408           -0.008656   \n",
       "Monthly Premium Auto                           -0.013122           -0.011233   \n",
       "Months Since Last Claim                         0.005354            0.009136   \n",
       "Months Since Policy Inception                  -0.001158           -0.013333   \n",
       "Number of Open Complaints                       1.000000            0.001498   \n",
       "Number of Policies                              0.001498            1.000000   \n",
       "Total Claim Amount                             -0.014241           -0.002354   \n",
       "\n",
       "                               Total Claim Amount  \n",
       "Customer Lifetime Value                  0.226451  \n",
       "Income                                  -0.355254  \n",
       "Monthly Premium Auto                     0.632017  \n",
       "Months Since Last Claim                  0.007563  \n",
       "Months Since Policy Inception            0.003335  \n",
       "Number of Open Complaints               -0.014241  \n",
       "Number of Policies                      -0.002354  \n",
       "Total Claim Amount                       1.000000  "
      ]
     },
     "metadata": {},
     "output_type": "display_data"
    }
   ],
   "source": [
    "#check for multicollinearity\n",
    "correlations_matrix = numericals.corr()\n",
    "display(correlations_matrix)\n"
   ]
  },
  {
   "cell_type": "markdown",
   "id": "c8fce6f0",
   "metadata": {},
   "source": [
    "None of the variables shows any high abs(corr) with reference to Total claim amounbt. with correlation coefficient at 0.63. which is below the recommended high abs(corr) >=0.75\n",
    "But for the sake of the exercise , we will still go ahead and train a model, even though in practise , it might prove less useful\n"
   ]
  },
  {
   "cell_type": "code",
   "execution_count": 6,
   "id": "2038ebf4",
   "metadata": {},
   "outputs": [
    {
     "data": {
      "image/png": "[encoded data removed]",
      "text/plain": [
       "<Figure size 640x480 with 1 Axes>"
      ]
     },
     "metadata": {},
     "output_type": "display_data"
    },
    {
     "data": {
      "image/png": "[encoded data removed]",
      "text/plain": [
       "<Figure size 640x480 with 1 Axes>"
      ]
     },
     "metadata": {},
     "output_type": "display_data"
    },
    {
     "data": {
      "image/png": "[encoded data removed]",
      "text/plain": [
       "<Figure size 640x480 with 1 Axes>"
      ]
     },
     "metadata": {},
     "output_type": "display_data"
    },
    {
     "data": {
      "image/png": "[encoded data removed]",
      "text/plain": [
       "<Figure size 640x480 with 1 Axes>"
      ]
     },
     "metadata": {},
     "output_type": "display_data"
    },
    {
     "data": {
      "image/png": "[encoded data removed]",
      "text/plain": [
       "<Figure size 640x480 with 1 Axes>"
      ]
     },
     "metadata": {},
     "output_type": "display_data"
    },
    {
     "data": {
      "image/png": "[encoded data removed]",
      "text/plain": [
       "<Figure size 640x480 with 1 Axes>"
      ]
     },
     "metadata": {},
     "output_type": "display_data"
    },
    {
     "data": {
      "image/png": "[encoded data removed]",
      "text/plain": [
       "<Figure size 640x480 with 1 Axes>"
      ]
     },
     "metadata": {},
     "output_type": "display_data"
    },
    {
     "data": {
      "image/png": "[encoded data removed]",
      "text/plain": [
       "<Figure size 640x480 with 1 Axes>"
      ]
     },
     "metadata": {},
     "output_type": "display_data"
    }
   ],
   "source": [
    "# drop outliers\n",
    "#see boxplots of numericals, name each one of them\n",
    "def boxplots_numericals(numericals: pd.DataFrame, cols: list=None):\n",
    "    if cols is not None:\n",
    "        for col in cols:\n",
    "            sns.boxplot(numericals[col])\n",
    "            plt.title(col)\n",
    "            plt.show()\n",
    "    else:\n",
    "        for col in numericals.columns:\n",
    "            sns.boxplot(numericals[col])\n",
    "            plt.title(col)\n",
    "            plt.show()        \n",
    "\n",
    "boxplots_numericals(numericals)"
   ]
  },
  {
   "cell_type": "markdown",
   "id": "b06c63dc",
   "metadata": {},
   "source": [
    "No outlier, so we will just transform . distribution is heavily skewed to the right"
   ]
  },
  {
   "cell_type": "markdown",
   "id": "e89e2db9",
   "metadata": {},
   "source": [
    "#SPLIT\n"
   ]
  },
  {
   "cell_type": "markdown",
   "id": "26035362",
   "metadata": {},
   "source": [
    "#differentiate categorical and numerical data\n",
    "#X_num = X.select_dtypes(include = np.number)\n",
    "#X_cat = X.select_dtypes(include = object)"
   ]
  },
  {
   "cell_type": "code",
   "execution_count": 9,
   "id": "ed74ae43",
   "metadata": {},
   "outputs": [],
   "source": [
    "#build x and y for train and testing\n",
    "y = dataset['Total Claim Amount']\n",
    "X = dataset.drop('Total Claim Amount', axis=1)\n",
    "X= dataset.drop('Effective To Date', axis=1)"
   ]
  },
  {
   "cell_type": "code",
   "execution_count": 10,
   "id": "c7f57b3b",
   "metadata": {},
   "outputs": [
    {
     "data": {
      "text/plain": [
       "Index(['Customer', 'State', 'Customer Lifetime Value', 'Response', 'Coverage',\n",
       "       'Education', 'EmploymentStatus', 'Gender', 'Income', 'Location Code',\n",
       "       'Marital Status', 'Monthly Premium Auto', 'Months Since Last Claim',\n",
       "       'Months Since Policy Inception', 'Number of Open Complaints',\n",
       "       'Number of Policies', 'Policy Type', 'Policy', 'Renew Offer Type',\n",
       "       'Sales Channel', 'Total Claim Amount', 'Vehicle Class', 'Vehicle Size'],\n",
       "      dtype='object')"
      ]
     },
     "execution_count": 10,
     "metadata": {},
     "output_type": "execute_result"
    }
   ],
   "source": [
    "X.columns"
   ]
  },
  {
   "cell_type": "code",
   "execution_count": 11,
   "id": "945f5fb4",
   "metadata": {},
   "outputs": [],
   "source": [
    "#drop ambigous columns\n",
    "X = X.drop(['Policy'], axis=1)\n",
    "\n",
    "#merge vehicle classes so that luxury SUV,luxury car are all luxury\n",
    "X['Vehicle Class'] = X['Vehicle Class'].replace(['Luxury SUV','Luxury Car'], 'Luxury')\n"
   ]
  },
  {
   "cell_type": "markdown",
   "id": "6ec4809c",
   "metadata": {},
   "source": [
    "TRAIN TEST SPLIT"
   ]
  },
  {
   "cell_type": "code",
   "execution_count": 12,
   "id": "a6fab75d",
   "metadata": {},
   "outputs": [],
   "source": [
    "from sklearn.model_selection import train_test_split\n",
    "#use the Train-test split to create the Train, and Test sets\n",
    "X_train, X_test, y_train, y_test = train_test_split(X, y, test_size=0.2, random_state=4)"
   ]
  },
  {
   "cell_type": "code",
   "execution_count": 13,
   "id": "f9f0bc8b",
   "metadata": {},
   "outputs": [],
   "source": [
    "#Use the pd.DataFrame() function to create new Pandas DataFrames from the X_train, and X_test Numpy arrays obtained in the previous step (make sure to use the columns= option to set the columns names to X.columns)\n",
    "X_train_df = pd.DataFrame(X_train, columns=X.columns)\n",
    "X_test_df = pd.DataFrame(X_test, columns=X.columns)\n"
   ]
  },
  {
   "cell_type": "code",
   "execution_count": 14,
   "id": "89577109",
   "metadata": {},
   "outputs": [],
   "source": [
    "#split X_train_df into numerical and categorical\n",
    "X_train_num = X_train_df.select_dtypes(np.number)\n",
    "X_train_cat = X_train_df.select_dtypes(object)\n"
   ]
  },
  {
   "cell_type": "code",
   "execution_count": 15,
   "id": "3d6a0372",
   "metadata": {},
   "outputs": [],
   "source": [
    "#split X_test_df into numerical and categorical\n",
    "X_test_num = X_test_df.select_dtypes(np.number)\n",
    "X_test_cat = X_test_df.select_dtypes(object)"
   ]
  },
  {
   "cell_type": "code",
   "execution_count": 16,
   "id": "93e0cfa0",
   "metadata": {},
   "outputs": [
    {
     "name": "stdout",
     "output_type": "stream",
     "text": [
      "Customer ['HW87852' 'AV17528' 'OS94884' ... 'NZ15548' 'OL72669' 'LV62981']\n",
      "State ['Oregon' 'Nevada' 'Arizona' 'California' 'Washington']\n",
      "Response ['No' 'Yes']\n",
      "Coverage ['Basic' 'Premium' 'Extended']\n",
      "Education ['Master' 'High School or Below' 'Bachelor' 'College' 'Doctor']\n",
      "EmploymentStatus ['Medical Leave' 'Employed' 'Unemployed' 'Retired' 'Disabled']\n",
      "Gender ['M' 'F']\n",
      "Location Code ['Suburban' 'Rural' 'Urban']\n",
      "Marital Status ['Married' 'Divorced' 'Single']\n",
      "Policy Type ['Personal Auto' 'Corporate Auto' 'Special Auto']\n",
      "Renew Offer Type ['Offer1' 'Offer2' 'Offer4' 'Offer3']\n",
      "Sales Channel ['Agent' 'Branch' 'Web' 'Call Center']\n",
      "Vehicle Class ['Four-Door Car' 'Sports Car' 'Two-Door Car' 'SUV' 'Luxury']\n",
      "Vehicle Size ['Medsize' 'Large' 'Small']\n"
     ]
    }
   ],
   "source": [
    "#get unique values of each categorical column and column names\n",
    "categories = []\n",
    "for i in X_train_cat.columns:\n",
    "    categories.append(X_train_cat[i].unique())\n",
    "    print(i, X_train_cat[i].unique())"
   ]
  },
  {
   "cell_type": "code",
   "execution_count": 17,
   "id": "20e00317",
   "metadata": {},
   "outputs": [],
   "source": [
    "#split X_train_cat into ordinal and nominal\n",
    "\n",
    "#ordinal\n",
    "X_train_ord = X_train_cat[['Coverage', 'Education', 'EmploymentStatus', 'Location Code', 'Policy Type', 'Renew Offer Type', 'Vehicle Class', 'Vehicle Size']]\n",
    "#nominal\n",
    "X_train_nom= X_train_cat[['State','Response','Gender','Marital Status','Sales Channel']]"
   ]
  },
  {
   "cell_type": "code",
   "execution_count": 18,
   "id": "476f17dd",
   "metadata": {},
   "outputs": [],
   "source": [
    "#split X_test_cat into ordinal and nominal\n",
    "\n",
    "#ordinal\n",
    "X_test_ord = X_test_cat[['Coverage', 'Education', 'EmploymentStatus', 'Location Code', 'Policy Type', 'Renew Offer Type', 'Vehicle Class', 'Vehicle Size']]\n",
    "#nominal\n",
    "X_test_nom = X_test_cat[['State','Response','Gender','Marital Status','Sales Channel']]"
   ]
  },
  {
   "cell_type": "code",
   "execution_count": null,
   "id": "2a39f1b9",
   "metadata": {},
   "outputs": [],
   "source": [
    "#encode nominal columns like gender, state, respone, sales channel,marital staus\n",
    "from sklearn.preprocessing import OneHotEncoder\n",
    "encoder = OneHotEncoder(handle_unknown='error', drop='first').fit(X_train_nom)\n",
    "X_train_nom_encoded_np = encoder.transform(X_train_nom).toarray()\n",
    "X_train_nom_encoded_df = pd.DataFrame(X_train_nom_encoded_np, columns=encoder.get_feature_names_out(), \n",
    "                                     index=X_train_nom.index)\n",
    "\n",
    "X_train_nom_encoded_df.head()"
   ]
  },
  {
   "cell_type": "code",
   "execution_count": null,
   "id": "0ff7e567",
   "metadata": {},
   "outputs": [],
   "source": [
    "#encode X_test_nom\n",
    "X_test_nom_encoded_np = encoder.transform(X_test_nom).toarray()\n",
    "X_test_nom_encoded_df = pd.DataFrame(X_test_nom_encoded_np, columns=encoder.get_feature_names_out(), \n",
    "                                     index=X_test_nom.index)"
   ]
  },
  {
   "cell_type": "code",
   "execution_count": null,
   "id": "49de8b24",
   "metadata": {},
   "outputs": [],
   "source": [
    "import os\n",
    "import pickle\n",
    "\n",
    "path = \"encoders/\"\n",
    "# Check whether the specified path exists or not\n",
    "isExist = os.path.exists(path)\n",
    "if not isExist:\n",
    "    # Create a new directory because it does not exist\n",
    "    os.makedirs(path)\n",
    "    print(\"The new directory is created!\")\n",
    "\n",
    "filename = \"encoder1.pkl\" # Use a descriptive name for your scaler/transformer but keep the \".pkl\" file extension\n",
    "with open(path+filename, \"wb\") as file:\n",
    "    pickle.dump(encoder, file)"
   ]
  },
  {
   "cell_type": "code",
   "execution_count": null,
   "id": "7314098e",
   "metadata": {},
   "outputs": [],
   "source": [
    "#for x_train_ordinal, assign order to the values\n",
    "X_train_ord['Coverage'] = X_train_ord['Coverage'].replace(['Basic','Extended','Premium'],[1,2,3])\n",
    "X_train_ord['Education'] = X_train_ord['Education'].replace(['High School or Below','College','Bachelor','Master','Doctor'],[1,2,3,4,5])\n",
    "X_train_ord['EmploymentStatus'] = X_train_ord['EmploymentStatus'].replace(['Unemployed','Medical Leave','Disabled','Employed','Retired'],[1,2,3,4,5])\n",
    "X_train_ord['Location Code'] = X_train_ord['Location Code'].replace(['Rural','Suburban','Urban',],[1,2,3])\n",
    "X_train_ord['Policy Type'] = X_train_ord['Policy Type'].replace(['Personal Auto','Corporate Auto','Special Auto'],[1,2,3])\n",
    "X_train_ord['Renew Offer Type'] = X_train_ord['Renew Offer Type'].replace(['Offer1','Offer2','Offer3','Offer4'],[1,2,3,4])\n",
    "X_train_ord['Vehicle Size'] = X_train_ord['Vehicle Size'].replace(['Small','Medsize','Large'],[1,2,3])\n",
    "X_train_ord['Vehicle Class'] = X_train_ord['Vehicle Class'].replace(['Two-Door Car','Four-Door Car','SUV','Sports Car','Luxury'],[1,2,3,4,5])\n"
   ]
  },
  {
   "cell_type": "code",
   "execution_count": null,
   "id": "46ab8108",
   "metadata": {},
   "outputs": [],
   "source": [
    "#for x_test_ordinal, assign order to the values\n",
    "X_test_ord['Coverage'] = X_test_ord['Coverage'].replace(['Basic','Extended','Premium'],[1,2,3])\n",
    "X_test_ord['Education'] = X_test_ord['Education'].replace(['High School or Below','College','Bachelor','Master','Doctor'],[1,2,3,4,5])\n",
    "X_test_ord['EmploymentStatus'] = X_test_ord['EmploymentStatus'].replace(['Unemployed','Medical Leave','Disabled','Employed','Retired'],[1,2,3,4,5])\n",
    "X_test_ord['Location Code'] = X_test_ord['Location Code'].replace(['Rural','Suburban','Urban',],[1,2,3])\n",
    "X_test_ord['Policy Type'] = X_test_ord['Policy Type'].replace(['Personal Auto','Corporate Auto','Special Auto'],[1,2,3])\n",
    "X_test_ord['Renew Offer Type'] = X_test_ord['Renew Offer Type'].replace(['Offer1','Offer2','Offer3','Offer4'],[1,2,3,4])\n",
    "X_test_ord['Vehicle Size'] = X_test_ord['Vehicle Size'].replace(['Small','Medsize','Large'],[1,2,3])\n",
    "X_test_ord['Vehicle Class'] = X_test_ord['Vehicle Class'].replace(['Two-Door Car','Four-Door Car','SUV','Sports Car','Luxury'],[1,2,3,4,5])\n"
   ]
  },
  {
   "cell_type": "code",
   "execution_count": null,
   "id": "05189e48",
   "metadata": {},
   "outputs": [],
   "source": [
    "X_train_ord.head()"
   ]
  },
  {
   "cell_type": "code",
   "execution_count": null,
   "id": "2a8980e2",
   "metadata": {},
   "outputs": [],
   "source": [
    "X_test_ord.head()"
   ]
  },
  {
   "cell_type": "code",
   "execution_count": null,
   "id": "57d05485",
   "metadata": {},
   "outputs": [],
   "source": [
    "#get distributions of numericals\n",
    "def distributions_numericals(df: pd.DataFrame):\n",
    "    for i in df.columns:\n",
    "        sns.displot(numericals[i])\n",
    "        plt.title(i)\n",
    "        plt.show()\n",
    "\n",
    "\n"
   ]
  },
  {
   "cell_type": "code",
   "execution_count": null,
   "id": "4c326fb1",
   "metadata": {},
   "outputs": [],
   "source": [
    "distributions_numericals(X_train_num)"
   ]
  },
  {
   "cell_type": "code",
   "execution_count": null,
   "id": "5b36dc42",
   "metadata": {},
   "outputs": [],
   "source": [
    "from sklearn.preprocessing import PowerTransformer\n",
    "\n",
    "pt = PowerTransformer()\n",
    "pt.fit(X_train_num)\n",
    "X_train_num_transformed = pt.transform(X_train_num)\n",
    "X_train_num_transformed_df = pd.DataFrame(X_train_num_transformed, columns=X_train_num.columns, index=X_train_num.index)\n",
    "#X_train_num_transformed = pt.transform(X_train_num)"
   ]
  },
  {
   "cell_type": "code",
   "execution_count": null,
   "id": "7891e11f",
   "metadata": {},
   "outputs": [],
   "source": [
    "#transform X_test_num\n",
    "X_test_num_transformed = pt.transform(X_test_num)\n",
    "X_test_num_transformed_df = pd.DataFrame(X_test_num_transformed, columns=X_test_num.columns, index=X_test_num.index)"
   ]
  },
  {
   "cell_type": "code",
   "execution_count": null,
   "id": "eab9da23",
   "metadata": {},
   "outputs": [],
   "source": [
    "#save the transformer\n",
    "import os\n",
    "\n",
    "path = \"transformers/\"\n",
    "# Check whether the specified path exists or not\n",
    "isExist = os.path.exists(path)\n",
    "if not isExist:\n",
    "    # Create a new directory because it does not exist\n",
    "    os.makedirs(path)\n",
    "    print(\"The new directory is created!\")\n",
    "\n",
    "filename = \"ptTranform.pkl\" # Use a descriptive name for your scaler/transformer but keep the \".pkl\" file extension\n",
    "with open(path+filename, \"wb\") as file:\n",
    "  pickle.dump(pt, file)"
   ]
  },
  {
   "cell_type": "code",
   "execution_count": null,
   "id": "aac1e297",
   "metadata": {},
   "outputs": [],
   "source": [
    "#reset index of X_train_ord\n",
    "X_train_ord = X_train_ord.reset_index(drop=True)\n",
    "\n",
    "#reset index of X_train_nom_encoded_df\n",
    "X_train_nom_encoded_df = X_train_nom_encoded_df.reset_index(drop=True)"
   ]
  },
  {
   "cell_type": "code",
   "execution_count": null,
   "id": "63538efe",
   "metadata": {},
   "outputs": [],
   "source": [
    "#reset index of X_test_ord\n",
    "X_test_ord = X_test_ord.reset_index(drop=True)\n",
    "\n",
    "#reset index of X_test_nom_encoded_df\n",
    "X_test_nom_encoded_df = X_test_nom_encoded_df.reset_index(drop=True)"
   ]
  },
  {
   "cell_type": "code",
   "execution_count": null,
   "id": "682be7d1",
   "metadata": {},
   "outputs": [],
   "source": [
    "#concat X_train_encoded_df and X_train_ord\n",
    "categorical_transformed = pd.concat([X_train_nom_encoded_df, X_train_ord], axis=1)\n",
    "categorical_transformed.head()"
   ]
  },
  {
   "cell_type": "code",
   "execution_count": null,
   "id": "ae2c797c",
   "metadata": {},
   "outputs": [],
   "source": [
    "#concat X_test_encoded_df and X_test_ord\n",
    "categorical_transformed_test = pd.concat([X_test_nom_encoded_df, X_test_ord], axis=1)"
   ]
  },
  {
   "cell_type": "code",
   "execution_count": null,
   "id": "2f8a2aed",
   "metadata": {},
   "outputs": [],
   "source": [
    "categorical_transformed.isna().sum()"
   ]
  },
  {
   "cell_type": "code",
   "execution_count": null,
   "id": "8818e3f6",
   "metadata": {},
   "outputs": [],
   "source": [
    "X_train_num_transformed_df.head()"
   ]
  },
  {
   "cell_type": "code",
   "execution_count": null,
   "id": "544b54b2",
   "metadata": {},
   "outputs": [],
   "source": [
    "X_test_num_transformed_df.head()"
   ]
  },
  {
   "cell_type": "code",
   "execution_count": null,
   "id": "118d2892",
   "metadata": {},
   "outputs": [],
   "source": [
    "#reset index of X_train_num_transformed_df\n",
    "X_train_num_transformed_df = X_train_num_transformed_df.reset_index(drop=True)\n",
    "\n",
    "#reset index of X_test_num_transformed_df\n",
    "X_test_num_transformed_df = X_test_num_transformed_df.reset_index(drop=True)"
   ]
  },
  {
   "cell_type": "code",
   "execution_count": null,
   "id": "53be2b89",
   "metadata": {},
   "outputs": [],
   "source": [
    "#concat transformed numericals and transformed categoricals\n",
    "X_train_transformed = pd.concat([X_train_num_transformed_df, categorical_transformed], axis=1)\n",
    "X_train_transformed.head()"
   ]
  },
  {
   "cell_type": "code",
   "execution_count": null,
   "id": "31614ff0",
   "metadata": {},
   "outputs": [],
   "source": [
    "#check for nan values\n",
    "X_train_transformed.isna().sum()"
   ]
  },
  {
   "cell_type": "code",
   "execution_count": null,
   "id": "b98891f8",
   "metadata": {},
   "outputs": [],
   "source": [
    "#concat X_test_num_transformed_df and categorical_transformed_test\n",
    "X_test_transformed = pd.concat([X_test_num_transformed_df, categorical_transformed_test], axis=1)\n",
    "X_test_transformed.head()"
   ]
  },
  {
   "cell_type": "code",
   "execution_count": null,
   "id": "6413f7dd",
   "metadata": {},
   "outputs": [],
   "source": [
    "from sklearn.preprocessing import MinMaxScaler\n",
    "transformer = MinMaxScaler().fit(X_train_transformed)\n",
    "X_train = transformer.transform(X_train_transformed)\n",
    "\n",
    "\n",
    "#min max scaler for X_test_transformed\n",
    "X_test = transformer.transform(X_test_transformed)"
   ]
  },
  {
   "cell_type": "code",
   "execution_count": null,
   "id": "3cebdc76",
   "metadata": {},
   "outputs": [],
   "source": [
    "path = \"scalers/\"\n",
    "# Check whether the specified path exists or not\n",
    "isExist = os.path.exists(path)\n",
    "if not isExist:\n",
    "  # Create a new directory because it does not exist\n",
    "  os.makedirs(path)\n",
    "  print(\"The new directory is created!\")\n",
    "\n",
    "filename = \"scaled_train.pkl\" # use a descriptive name for your encoder but keep the \".pkl\" file extension\n",
    "with open(path+filename, \"wb\") as file:\n",
    "   pickle.dump(transformer, file)"
   ]
  },
  {
   "cell_type": "code",
   "execution_count": null,
   "id": "73b0d454",
   "metadata": {},
   "outputs": [],
   "source": [
    "#apply linear regression\n",
    "from sklearn import linear_model\n",
    "from sklearn.metrics import mean_squared_error, r2_score\n",
    "lm = linear_model.LinearRegression()\n",
    "model = lm.fit(X_train, y_train)\n"
   ]
  },
  {
   "cell_type": "code",
   "execution_count": null,
   "id": "89337720",
   "metadata": {},
   "outputs": [],
   "source": [
    "y_train_pred = model.predict(X_train)\n",
    "y_test_pred = model.predict(X_test)"
   ]
  },
  {
   "cell_type": "code",
   "execution_count": null,
   "id": "bce5a8ae",
   "metadata": {},
   "outputs": [],
   "source": [
    "#Compute the following metrics for your Train and Test sets:R2.MSE.RMSE.MAE.\n",
    "from sklearn.metrics import mean_squared_error, r2_score, mean_absolute_error\n",
    "r2 = r2_score(y_test, y_test_pred)\n",
    "mse = mean_squared_error(y_test, y_test_pred)\n",
    "rmse = np.sqrt(mse)\n",
    "mae = mean_absolute_error(y_test, y_test_pred)\n",
    "\n",
    "print('r2:', r2)\n",
    "print('mse:', mse)\n",
    "print('rmse:', rmse)\n",
    "print('mae:', mae)\n"
   ]
  },
  {
   "cell_type": "code",
   "execution_count": null,
   "id": "155f8acf",
   "metadata": {},
   "outputs": [],
   "source": [
    "#create  dataframe to summarize metrics, \n",
    "results = {\"Set\": [\"Train\"]*X_train.shape[0] + [\"Test\"]*X_test.shape[0], \n",
    "           \"Real\": list(y_train) + list(y_test),\n",
    "           \"Predicted\": list(y_train_pred) + list(y_test_pred)}\n",
    "\n",
    "results_df = pd.DataFrame(results)\n",
    "results_df['Errors'] = results_df['Real'] - results_df['Predicted']\n",
    "results_df.head()"
   ]
  }
 ],
 "metadata": {
  "kernelspec": {
   "display_name": "test_env",
   "language": "python",
   "name": "python3"
  },
  "language_info": {
   "codemirror_mode": {
    "name": "ipython",
    "version": 3
   },
   "file_extension": ".py",
   "mimetype": "text/x-python",
   "name": "python",
   "nbconvert_exporter": "python",
   "pygments_lexer": "ipython3",
   "version": "3.11.5"
  }
 },
 "nbformat": 4,
 "nbformat_minor": 5
}
